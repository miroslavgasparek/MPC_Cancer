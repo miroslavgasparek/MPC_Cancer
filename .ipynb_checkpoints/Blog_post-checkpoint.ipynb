{
 "cells": [
  {
   "cell_type": "markdown",
   "metadata": {},
   "source": [
    "## Modeling of optimal cancer treatment through combined chemotherapy and immunotherapy using MPC\n",
    "The cancer is one of the biggest healthcare challenges that the modern society faces. Although our ability to deal with this medical condition have significantly increased in the recent decades, we are still unable to treat all the kinds of cancer and many tumors, such as brain tumor called 'glioblastoma multiformis' have very high mortality.\n",
    "\n",
    "Current clinical treatment protocols of cancer involve different treatment modalities, such as radiation therapy, chemotherapy, immunotherapy, and surgical treatment. All the different types of treatment have positive and negative aspects and various side effects associated with them. For example, while the radiation therapy can kill the significant number of cancerous within the whole tumor, it can also damage the surrounding tissues. Chemotherapy can kill cancerous cells quite effectively, but it is also effective in killing of the cells accross the whole body due to its systemic effects.\n",
    "\n",
    "In this blog, I would like to demonstrate how the methods of systems biology and control engineering can help us to optimize the cancer treatment through scheduling of the chemotherapy and immunotherapy, using the deterministic model of the cancer proliferation. I also hope to demonstrate how the (bio)engineering approach and computational tools can be applied to cancer. \n",
    "\n",
    "#### The qualitative description of the system\n",
    "Before we delve deep into the equations and simulations, we need to think about the biological and physiological phenomena we want to capture by our cancer model. It is always important to think about the biological meaning of the equations instead of mindlessly coding them up in your favorite programming language. So let's think qualitatively about our model. \n",
    "\n",
    "Let's start with the tumor growth. Qualitatively speaking, tumor grows at certain rate that depends on its current size in a non-linear fashion. The immune cells (such as neutrophiles, B cells, and cytotoxic T cells) can kill the cancer cells during the mutual interaction. The cancer cells can also be killed by the chemotherapeutic treatment. We will not consider the natural death of the cancerous cells, as their natural death rate is quite reduced - in the end, this is the issue with the tumor cells! \n",
    "\n",
    "The immune cells are produced at a certain rate in the bone marrow. These cells also die when their time comes. What is the effect of the tumor on the immune system? While at small tumor size, the production of these cells is stimulated by the presence of the tumor, as the tumor grows, it starts to inhibit the production of the immune cells, for instance through metastasis into the bone marrow. Finally, the effect of immunotherapy is such that it stimulates the production of the immune cells.\n",
    "\n",
    "#### The mathematical model of the cancer proliferation\n",
    "\n",
    "Having described the interplay between tumor, immune cells, chemotherapy, and immunotherapy qualitatively, we can turn this qualitative description into a quantitative model. We form the  system of ordinary differential equations (ODE) describing the time evolution of the tumor volume, and immune effector cells density as follows: \n",
    "\n",
    "\\begin{align}\n",
    "\\frac{dx}{dt} = -\\mu_{C}x ln \\left( \\frac{x}{x_{\\infty}} \\right) - \\gamma x y - k_{x}x u \\\\\n",
    "\\frac{dy}{dt} = \\mu_{I} \\left( x - \\beta x^{2} \\right)y - \\delta y + \\alpha + k_{y}yv\n",
    "\\end{align}\n",
    "\n",
    "where:\n",
    "- $x$ is the tumor volume (in 10^6 cells)\n",
    "- $y$ is the immune-competent cells density (non-dimensional)\n",
    "- $\\alpha$ is the natural rate of influx of immune competent cells (1/day)\n",
    "- $\\beta$ is the inverse threshold for the tumor suppresion (non-dim.)\n",
    "- $\\gamma$ is the interaction rate between the immune comp. cells and tumor (10^7 cells/day)\n",
    "- $\\delta$ is the death rate of immune cells (1/day)\n",
    "- $\\mu_{C}$ is the tumor growth parameter (10^7 cells/day)\n",
    "- $\\mu_{I}$ is the tumor-stimulated proliferation rate (10^7 cells/day)\n",
    "- $x_{\\infty}$ is the tumor carrying capacity\n",
    "- $k_{x}$ is the killing parameter of chemotherapy of tumor cells (10^7 cells/day)\n",
    "- $k_{y}$ is the rate of immune cells proliferation when immunotherapy is used (non-dim.)\n",
    "\n",
    "So what would be our objectives during the treatment? Well, we would like to\n",
    "\n",
    "\n",
    "We would like to describe the tumor growth as the function of time, while considering its interaction with the immune system. We also want to capture the response of both tumor and immune system to the chemotherapy and immune therapy. \n",
    "\n",
    "\n",
    "\n",
    "We need to think about the mathematical description of the cancer growth. Of course, there are many different ways to model the cancer growth, but we have to pick one that captures the desired characteristics of the biological system. As we want to focus on the interactions between\n"
   ]
  },
  {
   "cell_type": "code",
   "execution_count": null,
   "metadata": {},
   "outputs": [],
   "source": []
  }
 ],
 "metadata": {
  "kernelspec": {
   "display_name": "Python 3",
   "language": "python",
   "name": "python3"
  },
  "language_info": {
   "codemirror_mode": {
    "name": "ipython",
    "version": 3
   },
   "file_extension": ".py",
   "mimetype": "text/x-python",
   "name": "python",
   "nbconvert_exporter": "python",
   "pygments_lexer": "ipython3",
   "version": "3.6.6"
  }
 },
 "nbformat": 4,
 "nbformat_minor": 2
}
