{
 "cells": [
  {
   "cell_type": "markdown",
   "metadata": {},
   "source": [
    "## Modeling of optimal cancer treatment through combined chemotherapy and immunotherapy using MPC\n",
    "The cancer is one of the biggest healthcare challenges that the modern society faces. Although our ability to deal with this medical condition have significantly increased in the recent decades, we are still unable to treat all the kinds of cancer and many tumors, such as brain tumor called 'glioblastoma multiformis' have very high mortality.\n",
    "\n",
    "Current clinical treatment protocols of cancer involve different treatment modalities, such as radiation therapy, chemotherapy, immunotherapy, and surgical treatment. All the different types of treatment have positive and negative aspects and various side effects associated with them. For example, while the radiation therapy can kill the significant number of cancerous within the whole tumor, it can also damage the surrounding tissues. Chemotherapy can kill cancerous cells quite effectively, but it is also effective in killing of the cells accross the whole body due to its systemic effects.\n",
    "\n",
    "In this blog, I would like to demonstrate how the methods of systems biology and control engineering can help us to optimize the cancer treatment through scheduling of the chemotherapy and immunotherapy, using the deterministic model of the cancer proliferation. I also hope to demonstrate how the (bio)engineering approach and computational tools can be applied to cancer. \n",
    "\n",
    "#### The qualitative description of the system\n",
    "Before we delve deep into the equations and simulations, we need to think about the biological and physiological phenomena we want to capture by our cancer model. So before writing any equation or a line of code, let's think qualitatively about our model, which emphasizes the interaction between the tumour cells and immune system. \n",
    "\n",
    "Let's start with the tumor growth. Qualitatively speaking, tumor grows at a certain rate that depends on its current size, generally in a non-linear fashion. This goal is generally influenced by the factors like availability of the nutrients and cell cycle of the cancer cells. The immune cells (such as neutrophiles, B cells, and cytotoxic T cells) can kill the cancer cells during the mutual interaction - of course, under the assumption that these cells can actually \"find\" the cancer cells. This is actually one of the significant issues in the cancer treatment, as cancer cells often stop expressing antigen proteins on their surface and thus prevent the recognition by the immune cells. Furthermore, the cancer cells can also be killed by the chemotherapeutic treatment. We will not consider the natural death of the cancerous cells, as their natural death rate is quite reduced - in the end, this is the issue with the tumor cells! Of course, in this simplified description of the tumor tissue, we do not consider the stratification of the tumor into the necrotic core and proliferating surroundings, but the description provided is sufficient for our purposes. In the end, we are not searching for the \"ideal\" model, but for the model that is \"good enough\". \n",
    "\n",
    "The immune cells are produced at a certain constant rate in the bone marrow. These cells also die when their time comes - and the typical lifetime of the immune cells is much shorter than that of cancer cells, so we take their natural death into account. What is the effect of the tumor on the immune system? According to this model, at small tumor size, the production of the cells is stimulated by the presence of the tumor. However, as the tumor grows, it starts to inhibit the production of the immune cells, perhaps through metastasis into the bone marrow. Finally, the effect of immunotherapy is such that it stimulates the production of the immune cells. In this model, we do not explicitly describe the influence of the chemotherapy on the immune cells, following the approach of Sharifi et al. This could be accomplished by the use of the chemotherapy that only affects the cancer cells, i. e. through targeting of a specific pathway that only occurs in the cancer cells. \n",
    "\n",
    "From the above description, we can see how the various physiological processes influence the tumor volume and the number of immune cells. Generally speaking, the objective of the cancer treatment is to reduce the tumor volume to the size that is physiologically plausible (i. e. below the detection limit), while keeping the level of immune cells above certain threshold, below which the patient can suffer from the negative consequences like infections. Moreover, we want to limit the amount of chemotherapy used to avoid its detrimental effects on the healthy cells and reduce the financial burden of the treatment. Similaraly, we aim to limit the amount of immunotherapy applied for the similar reasons.\n",
    "\n",
    "#### The mathematical model of the cancer proliferation\n",
    "\n",
    "Having described the interplay between tumor, immune cells, chemotherapy, and immunotherapy qualitatively, we turn this qualitative description into a quantitative model. Let's start with the tumor growth. While there are multiple quantitative models that provide a reasonable agreement between the experimental tumor growth data, we describe the tumor growth by *Gompertz law*, which states that the tumor grows at the rate $-\\mu_{C}x ln \\left( \\frac{x}{x_{\\infty}} \\right)$, where $x$ represents the tumor cell mass, $\\mu$ is a constant proportional to the tumor growth rate, and $x_{\\infty}$ is the tumor carrying capacity, i. e. the \"characteristic\" volume of the tumor provided that we would not take any action. Perhaps after reaching this stage, the tumor would metastatise  to the different regions of the body. \n",
    "\n",
    "The next term describes the inhibition of tumor growth by the immune effector cells . It intuitively makes sense that the rate of reduction\n",
    "\n",
    "The system of ordinary differential equations (ODE) that describes the time evolution of tumor volume, and immune effector cells density as follows: \n",
    "\n",
    "\\begin{align}\n",
    "\\frac{dx}{dt} = -\\mu_{C}x ln \\left( \\frac{x}{x_{\\infty}} \\right) - \\gamma x y - k_{x}x u \\\\\n",
    "\\frac{dy}{dt} = \\mu_{I} \\left( x - \\beta x^{2} \\right)y - \\delta y + \\alpha + k_{y}yv\n",
    "\\end{align}\n",
    "\n",
    "where:\n",
    "- $x$ is the tumor volume (in 10^6 cells)\n",
    "- $y$ is the immune-competent cells density (non-dimensional)\n",
    "- $\\alpha$ is the natural rate of influx of immune competent cells (1/day)\n",
    "- $\\beta$ is the inverse threshold for the tumor suppresion (non-dim.)\n",
    "- $\\gamma$ is the interaction rate between the immune comp. cells and tumor (10^7 cells/day)\n",
    "- $\\delta$ is the death rate of immune cells (1/day)\n",
    "- $\\mu_{C}$ is the tumor growth parameter (10^7 cells/day)\n",
    "- $\\mu_{I}$ is the tumor-stimulated proliferation rate (10^7 cells/day)\n",
    "- $x_{\\infty}$ is the tumor carrying capacity\n",
    "- $k_{x}$ is the killing parameter of chemotherapy of tumor cells (10^7 cells/day)\n",
    "- $k_{y}$ is the rate of immune cells proliferation when immunotherapy is used (non-dim.)\n",
    "\n",
    "**So what would be the objectives that our optimised treatment strategy should accomplish?**\n",
    "* Reduce the tumor size to the acceptable level  (i. e. under the detection limit) through the appropriate chmemotherapy dosing\n",
    "* Increase the level of the immune effector cells through the immunotherapy (to prevent the immune system failure)\n",
    "* Minimize the overall dose of chemotherapy & immunotherapy to avoid potential side effects and to minimize the treatment cost\n",
    "\n",
    "We would like to describe the tumor growth as the function of time, while considering its interaction with the immune system. We also want to capture the response of both tumor and immune system to the chemotherapy and immune therapy. \n",
    "\n",
    "\n",
    "\n",
    "We need to think about the mathematical description of the cancer growth. Of course, there are many different ways to model the cancer growth, but we have to pick one that captures the desired characteristics of the biological system. As we want to focus on the interactions between\n"
   ]
  },
  {
   "cell_type": "code",
   "execution_count": null,
   "metadata": {},
   "outputs": [],
   "source": []
  }
 ],
 "metadata": {
  "kernelspec": {
   "display_name": "Python 3",
   "language": "python",
   "name": "python3"
  },
  "language_info": {
   "codemirror_mode": {
    "name": "ipython",
    "version": 3
   },
   "file_extension": ".py",
   "mimetype": "text/x-python",
   "name": "python",
   "nbconvert_exporter": "python",
   "pygments_lexer": "ipython3",
   "version": "3.6.7"
  }
 },
 "nbformat": 4,
 "nbformat_minor": 2
}
